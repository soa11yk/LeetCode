# you can write to stdout for debugging purposes, e.g.
# print("this is a debug message")
from collections import deque

def solution(A, K):
    # write your code in Python 3.6
    A = deque(A)
    A.rotate(K)        # The deque is now: [3, 1, 2]
    A= list (A)
    return (A)
    pass
