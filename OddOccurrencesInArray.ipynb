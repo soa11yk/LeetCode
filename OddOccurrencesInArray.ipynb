# you can write to stdout for debugging purposes, e.g.
# print("this is a debug message")

def solution(A):
    # write your code in Python 3.6
    mySet = set()
    doubles = []
    r = 0
    for i in A:
        if i in mySet:
            doubles.append(i)
            mySet.remove(i)
        else:
                mySet.add(i)
    
    l = list (mySet)
    
    
    return (l[0])
    pass
