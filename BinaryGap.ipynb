def solution(N):
    cnt = 0
    result = 0
    found_one = False
 
    i = N    
         
    while i:
        if i & 1 == 1:  #bitwise and
            if (found_one == False):
                found_one = True
            else:
                result = max(result,cnt)
            cnt = 0
        else:
            cnt += 1
        i >>= 1 #divided by 2 to the power of 1
    
    return result
